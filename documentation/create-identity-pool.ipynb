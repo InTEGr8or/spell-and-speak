{
 "cells": [
  {
   "cell_type": "code",
   "execution_count": 7,
   "metadata": {
    "dotnet_interactive": {
     "language": "pwsh"
    },
    "polyglot_notebook": {
     "kernelName": "pwsh"
    },
    "vscode": {
     "languageId": "polyglot-notebook"
    }
   },
   "outputs": [],
   "source": [
    "$env:AWS_PROFILE=\"mark\""
   ]
  },
  {
   "cell_type": "code",
   "execution_count": null,
   "metadata": {
    "dotnet_interactive": {
     "language": "pwsh"
    },
    "polyglot_notebook": {
     "kernelName": "pwsh"
    },
    "vscode": {
     "languageId": "polyglot-notebook"
    }
   },
   "outputs": [],
   "source": [
    "aws s3 ls"
   ]
  },
  {
   "cell_type": "code",
   "execution_count": 8,
   "metadata": {
    "dotnet_interactive": {
     "language": "pwsh"
    },
    "polyglot_notebook": {
     "kernelName": "pwsh"
    },
    "vscode": {
     "languageId": "polyglot-notebook"
    }
   },
   "outputs": [
    {
     "name": "stdout",
     "output_type": "stream",
     "text": [
      "- AllowUnauthenticatedIdentities: true   IdentityPoolId: us-east-1:5ee4b58d-942a-4568-a4d5-4dcc551259c3   IdentityPoolName: PollyIdentityPool   IdentityPoolTags: {}\r\n"
     ]
    }
   ],
   "source": [
    "aws cognito-identity create-identity-pool `\n",
    "    --identity-pool-name PollyIdentityPool `\n",
    "    --allow-unauthenticated-identities `\n",
    "    --region us-east-1 `\n",
    "| Set-Variable IDENTITY_POOL_RESPONSE\n",
    "\n",
    "Write-Host $IDENTITY_POOL_RESPONSE\n",
    "\n",
    "# Copy the IdentityPoolId: from the output and assign it to the $IDENTITY_POOL_ID variable.\n"
   ]
  },
  {
   "cell_type": "code",
   "execution_count": 11,
   "metadata": {
    "dotnet_interactive": {
     "language": "pwsh"
    },
    "polyglot_notebook": {
     "kernelName": "pwsh"
    },
    "vscode": {
     "languageId": "polyglot-notebook"
    }
   },
   "outputs": [
    {
     "name": "stdout",
     "output_type": "stream",
     "text": [
      "us-east-1:5ee4b58d-942a-4568-a4d5-4dcc551259c3\r\n"
     ]
    }
   ],
   "source": [
    "$IDENTITY_POOL_ID = \"us-east-1:5ee4b58d-942a-4568-a4d5-4dcc551259c3\"\n",
    "Write-Host $IDENTITY_POOL_ID\n",
    "\n",
    "# YOU MUST REPLCE \"YOUR_IDENTITY_POOL_ID\" in the trust-policy.json"
   ]
  },
  {
   "cell_type": "code",
   "execution_count": 29,
   "metadata": {
    "dotnet_interactive": {
     "language": "pwsh"
    },
    "polyglot_notebook": {
     "kernelName": "pwsh"
    },
    "vscode": {
     "languageId": "polyglot-notebook"
    }
   },
   "outputs": [
    {
     "name": "stdout",
     "output_type": "stream",
     "text": [
      "\u001b[31;1mGet-Content: \u001b[31;1mA parameter cannot be found that matches parameter name 'Replace'.\u001b[0m\r\n"
     ]
    },
    {
     "ename": "Error",
     "evalue": "Command failed: SubmitCode: Get-Content \"trust-policy.json\" -Replace \"YOUR_IDE ...",
     "output_type": "error",
     "traceback": [
      "Command failed: SubmitCode: Get-Content \"trust-policy.json\" -Replace \"YOUR_IDE ..."
     ]
    }
   ],
   "source": [
    "Get-Content \"trust-policy.json\" `\n",
    "| -Replace \"YOUR_IDENTITY_POOL_ID\",\"$IDENTITY_POOL_ID\"\n",
    "| Set-Content \".\\trust-policy.json\""
   ]
  },
  {
   "cell_type": "code",
   "execution_count": 12,
   "metadata": {
    "dotnet_interactive": {
     "language": "pwsh"
    },
    "polyglot_notebook": {
     "kernelName": "pwsh"
    },
    "vscode": {
     "languageId": "polyglot-notebook"
    }
   },
   "outputs": [
    {
     "name": "stdout",
     "output_type": "stream",
     "text": [
      "- Role:\n",
      "    Arn: arn:aws:iam::318364255844:role/Cognito_PollyUnauth_Role\n",
      "    AssumeRolePolicyDocument:\n",
      "      Statement:\n",
      "      - Action: sts:AssumeRoleWithWebIdentity\n",
      "        Condition:\n",
      "          StringEquals:\n",
      "            cognito-identity.amazonaws.com:aud: YOUR_IDENTITY_POOL_ID\n",
      "        Effect: Allow\n",
      "        Principal:\n",
      "          Federated: cognito-identity.amazonaws.com\n",
      "      Version: '2012-10-17'\n",
      "    CreateDate: '2024-04-14T03:38:43+00:00'\n",
      "    Path: /\n",
      "    RoleId: AROAUUH75AZSGE6WE6JJR\n",
      "    RoleName: Cognito_PollyUnauth_Role\n"
     ]
    }
   ],
   "source": [
    "aws iam create-role --role-name Cognito_PollyUnauth_Role --assume-role-policy-document file://trust-policy.json\n"
   ]
  },
  {
   "cell_type": "code",
   "execution_count": 13,
   "metadata": {
    "dotnet_interactive": {
     "language": "pwsh"
    },
    "polyglot_notebook": {
     "kernelName": "pwsh"
    },
    "vscode": {
     "languageId": "polyglot-notebook"
    }
   },
   "outputs": [],
   "source": [
    "aws iam attach-role-policy `\n",
    "    --role-name Cognito_PollyUnauth_Role `\n",
    "    --policy-arn \"arn:aws:iam::aws:policy/AmazonPollyReadOnlyAccess\"\n"
   ]
  },
  {
   "cell_type": "code",
   "execution_count": 17,
   "metadata": {
    "dotnet_interactive": {
     "language": "pwsh"
    },
    "polyglot_notebook": {
     "kernelName": "pwsh"
    },
    "vscode": {
     "languageId": "polyglot-notebook"
    }
   },
   "outputs": [
    {
     "name": "stdout",
     "output_type": "stream",
     "text": [
      "318364255844\r\n"
     ]
    }
   ],
   "source": [
    "aws sts get-caller-identity --query \"Account\" --output text `\n",
    "| Set-Variable AWS_ACCOUNT_ID\n",
    "\n",
    "Write-Host $AWS_ACCOUNT_ID\n"
   ]
  },
  {
   "cell_type": "code",
   "execution_count": 24,
   "metadata": {
    "dotnet_interactive": {
     "language": "pwsh"
    },
    "polyglot_notebook": {
     "kernelName": "pwsh"
    },
    "vscode": {
     "languageId": "polyglot-notebook"
    }
   },
   "outputs": [
    {
     "name": "stdout",
     "output_type": "stream",
     "text": [
      "- IdentityPools:\n",
      "  - IdentityPoolId: us-east-1:43bb1378-1d99-4749-87bd-7e19a047871b\n",
      "    IdentityPoolName: amplify_backend_manager_d208wyr2a86kkx\n",
      "  - IdentityPoolId: us-east-1:5ee4b58d-942a-4568-a4d5-4dcc551259c3\n",
      "    IdentityPoolName: PollyIdentityPool\n",
      "  - IdentityPoolId: us-east-1:b6f7395c-e693-4f61-8f59-9f0896f8f45d\n",
      "    IdentityPoolName: amplify_backend_manager_d2wf2k02o94nhk\n",
      "  - IdentityPoolId: us-east-1:c6b7a0d6-d027-49ea-b061-2135a9afce31\n",
      "    IdentityPoolName: mygrandparentsc94844b7_identitypool_c94844b7__staging\n",
      "  - IdentityPoolId: us-east-1:d53bd38d-3d3d-47d1-b5fd-9b7d956ac319\n",
      "    IdentityPoolName: amplify_backend_manager_djgfn2g00aoen\n"
     ]
    }
   ],
   "source": [
    "aws cognito-identity list-identity-pools --max-results 60 --region us-east-1\n"
   ]
  },
  {
   "cell_type": "code",
   "execution_count": 30,
   "metadata": {
    "dotnet_interactive": {
     "language": "pwsh"
    },
    "polyglot_notebook": {
     "kernelName": "pwsh"
    },
    "vscode": {
     "languageId": "polyglot-notebook"
    }
   },
   "outputs": [
    {
     "name": "stdout",
     "output_type": "stream",
     "text": [
      "\u001b[31;1m\u001b[0m\n",
      "\u001b[31;1mAn error occurred (NotAuthorizedException) when calling the SetIdentityPoolRoles operation: Access to Role 'arn:aws:iam:::role/Cognito_PollyUnauth_Role' is forbidden.\u001b[0m\n"
     ]
    },
    {
     "ename": "Error",
     "evalue": "Command failed: SubmitCode: aws cognito-identity set-identity-pool-roles ` ...",
     "output_type": "error",
     "traceback": [
      "Command failed: SubmitCode: aws cognito-identity set-identity-pool-roles ` ..."
     ]
    }
   ],
   "source": [
    "aws cognito-identity set-identity-pool-roles `\n",
    "    --profile mark `\n",
    "    --identity-pool-id $IDENTITY_POOL_ID `\n",
    "    --region us-east-1 `\n",
    "    --roles \"unauthenticated=arn:aws:iam::${$AWS_ACCOUNT_ID}:role/Cognito_PollyUnauth_Role\"\n"
   ]
  }
 ],
 "metadata": {
  "kernelspec": {
   "display_name": ".NET (C#)",
   "language": "C#",
   "name": ".net-csharp"
  },
  "language_info": {
   "name": "python"
  },
  "polyglot_notebook": {
   "kernelInfo": {
    "defaultKernelName": "csharp",
    "items": [
     {
      "aliases": [],
      "name": "csharp"
     }
    ]
   }
  }
 },
 "nbformat": 4,
 "nbformat_minor": 2
}
